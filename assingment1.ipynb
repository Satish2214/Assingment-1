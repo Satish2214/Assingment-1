{
 "cells": [
  {
   "cell_type": "code",
   "execution_count": 1,
   "id": "336d543b-910d-4daa-a895-877934b7ebfa",
   "metadata": {},
   "outputs": [
    {
     "name": "stdout",
     "output_type": "stream",
     "text": [
      "Input list elements:\n",
      "10\n",
      "20\n",
      "30\n",
      "40\n",
      "50\n"
     ]
    }
   ],
   "source": [
    "# Q1. Explain with an example each when to use a for loop and a while loop.\n",
    "# Q1 --For loop is used when the number of iterations is already known.\n",
    "l = [10, 20, 30, 40, 50]\n",
    "print(\"Input:\")\n",
    "for i in l:\n",
    "   # printing each element of the list\n",
    "   print(i)"
   ]
  },
  {
   "cell_type": "code",
   "execution_count": 3,
   "id": "51896953-250a-439c-88c7-f25cbe9b113d",
   "metadata": {},
   "outputs": [
    {
     "name": "stdout",
     "output_type": "stream",
     "text": [
      "the current value of x is  0\n",
      "the current value of x is  1\n",
      "the current value of x is  2\n",
      "the current value of x is  3\n",
      "the current value of x is  4\n"
     ]
    }
   ],
   "source": [
    "# Q1 - While loop is used when the number of iterations is  Unknown.\n",
    "x =0\n",
    "while x<5:\n",
    "    print('the current value of x is ',(x))\n",
    "    x=x+1"
   ]
  },
  {
   "cell_type": "code",
   "execution_count": 4,
   "id": "82ad82be-2700-4d73-87ce-f728ec6bedf4",
   "metadata": {},
   "outputs": [
    {
     "name": "stdout",
     "output_type": "stream",
     "text": [
      "sum 55 product 3628800\n"
     ]
    }
   ],
   "source": [
    "#Q2 -Write a python program to print the sum and product of the first 10 natural numbers using for and while loop.\n",
    "l =[1,2,3,4,5,6,7,8,9,10]\n",
    "sum_l = 0\n",
    "pro_l = 1  \n",
    "for i in l :\n",
    "    sum_l = sum_l + i \n",
    "for i in l :\n",
    "    pro_l = pro_l * i \n",
    "print('sum' ,sum_l ,'product' ,pro_l)"
   ]
  },
  {
   "cell_type": "code",
   "execution_count": 8,
   "id": "f06c54aa-7f85-4a35-97cb-4d013e5399d4",
   "metadata": {},
   "outputs": [
    {
     "name": "stdout",
     "output_type": "stream",
     "text": [
      "sum:  55\n",
      "product:  3628800\n"
     ]
    }
   ],
   "source": [
    "#Q2\n",
    "n = 10\n",
    "i = 1\n",
    "sum = 0\n",
    "pro = 0 \n",
    "while (i <= n):\n",
    "    sum = sum + i\n",
    "    i = i + 1\n",
    "print(\"sum: \", sum)\n",
    "number = 10\n",
    "factorial = 1\n",
    "while number > 0:\n",
    "    factorial = factorial * number\n",
    "    number= number- 1\n",
    "print(\"product: \", factorial)  "
   ]
  },
  {
   "cell_type": "code",
   "execution_count": 15,
   "id": "3104ce89-9a6a-41fb-b9b3-b012cf830b8e",
   "metadata": {},
   "outputs": [
    {
     "name": "stdin",
     "output_type": "stream",
     "text": [
      " Please enter Number of Units :  310\n"
     ]
    },
    {
     "name": "stdout",
     "output_type": "stream",
     "text": [
      " Electricity Bill = 2250\n"
     ]
    }
   ],
   "source": [
    "##  q3 -Python Program to Calculate Electricity Bill\n",
    " \n",
    "unit = int(input(\" Please enter Number of Units : \"))\n",
    "\n",
    "if(unit < 100):\n",
    "    amount = unit * 4.50\n",
    "elif(unit <= 100):\n",
    "    amount = 450 + ((unit - 100) * 6)\n",
    "elif(unit <= 200):\n",
    "    amount = 450 + 600 + ((unit - 200) * 10)\n",
    "else:\n",
    "    amount = 450 + 600 + 1000 + ((unit - 300) * 20)\n",
    "print(\" Electricity Bill =\",  amount)"
   ]
  },
  {
   "cell_type": "code",
   "execution_count": 13,
   "id": "76dc1ae4-336d-4053-9719-33512b12ecb6",
   "metadata": {},
   "outputs": [
    {
     "name": "stdout",
     "output_type": "stream",
     "text": [
      "[8, 64, 125, 216, 512, 1000, 1728, 2744, 3375, 4096, 5832, 8000, 10648, 13824, 15625, 17576, 21952, 27000, 32768, 39304, 42875, 46656, 54872, 64000, 74088, 85184, 91125, 97336, 110592, 125000, 140608, 157464, 166375, 175616, 195112, 216000, 238328, 262144, 274625, 287496, 314432, 343000, 373248, 405224, 421875, 438976, 474552, 512000, 551368, 592704, 614125, 636056, 681472, 729000, 778688, 830584, 857375, 884736, 941192, 1000000]\n"
     ]
    }
   ],
   "source": [
    "#q4\n",
    "# Using a for loop\n",
    "numbers = list(range(1, 101))\n",
    "cubes = []\n",
    "for num in numbers:\n",
    "    cube = num ** 3\n",
    "    if cube % 4 == 0 or cube % 5 == 0:\n",
    "        cubes.append(cube)\n",
    "\n",
    "print(cubes)\n",
    "\n"
   ]
  },
  {
   "cell_type": "code",
   "execution_count": 14,
   "id": "226386ef-f5b8-4aed-9c2f-c4c0f2378076",
   "metadata": {},
   "outputs": [
    {
     "name": "stdout",
     "output_type": "stream",
     "text": [
      "[8, 64, 125, 216, 512, 1000, 1728, 2744, 3375, 4096, 5832, 8000, 10648, 13824, 15625, 17576, 21952, 27000, 32768, 39304, 42875, 46656, 54872, 64000, 74088, 85184, 91125, 97336, 110592, 125000, 140608, 157464, 166375, 175616, 195112, 216000, 238328, 262144, 274625, 287496, 314432, 343000, 373248, 405224, 421875, 438976, 474552, 512000, 551368, 592704, 614125, 636056, 681472, 729000, 778688, 830584, 857375, 884736, 941192, 1000000]\n"
     ]
    }
   ],
   "source": [
    "# Using a while loop\n",
    "numbers = list(range(1, 101))\n",
    "cubes = []\n",
    "i = 0\n",
    "while i < len(numbers):\n",
    "    cube = numbers[i] ** 3\n",
    "    if cube % 4 == 0 or cube % 5 == 0:\n",
    "        cubes.append(cube)\n",
    "    i += 1\n",
    "\n",
    "print(cubes)"
   ]
  },
  {
   "cell_type": "code",
   "execution_count": 17,
   "id": "4aef9273-d399-41fe-80da-853d6e131dbc",
   "metadata": {},
   "outputs": [
    {
     "name": "stdout",
     "output_type": "stream",
     "text": [
      "12\n"
     ]
    }
   ],
   "source": [
    "#q5\n",
    "string = \"I want to become a data scientist\"\n",
    "vowel=0\n",
    "for i in string:\n",
    "      if(i=='a' or i=='e' or i=='i' or i=='o' or i=='u' or i=='A' or i=='E' or i=='I' or i=='O' or i=='U'):\n",
    "            vowel=vowel+1\n",
    "print(vowel)"
   ]
  },
  {
   "cell_type": "code",
   "execution_count": null,
   "id": "6b1b5b94-62bc-4a43-9ed4-12549c6c69d6",
   "metadata": {},
   "outputs": [],
   "source": []
  }
 ],
 "metadata": {
  "kernelspec": {
   "display_name": "Python 3 (ipykernel)",
   "language": "python",
   "name": "python3"
  },
  "language_info": {
   "codemirror_mode": {
    "name": "ipython",
    "version": 3
   },
   "file_extension": ".py",
   "mimetype": "text/x-python",
   "name": "python",
   "nbconvert_exporter": "python",
   "pygments_lexer": "ipython3",
   "version": "3.10.8"
  }
 },
 "nbformat": 4,
 "nbformat_minor": 5
}
